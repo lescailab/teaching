{
  "nbformat": 4,
  "nbformat_minor": 0,
  "metadata": {
    "colab": {
      "name": "assaggio_biopython_biotecnologie.ipynb",
      "provenance": [],
      "collapsed_sections": [],
      "toc_visible": true,
      "authorship_tag": "ABX9TyNWbSrlTSrONDTyCVwgZAVo",
      "include_colab_link": true
    },
    "kernelspec": {
      "name": "python3",
      "display_name": "Python 3"
    },
    "language_info": {
      "name": "python"
    }
  },
  "cells": [
    {
      "cell_type": "markdown",
      "metadata": {
        "id": "view-in-github",
        "colab_type": "text"
      },
      "source": [
        "<a href=\"https://colab.research.google.com/github/lescailab/teaching/blob/main/assaggio_biopython_biotecnologie.ipynb\" target=\"_parent\"><img src=\"https://colab.research.google.com/assets/colab-badge.svg\" alt=\"Open In Colab\"/></a>"
      ]
    },
    {
      "cell_type": "markdown",
      "metadata": {
        "id": "L3ljNZEgOBrS"
      },
      "source": [
        "# Setup\n",
        "First of all we need to setup the virtual machine where this exercise is going to run. For this reason, we need to install **biopython** which is normally not present in the basic python distribution."
      ]
    },
    {
      "cell_type": "markdown",
      "metadata": {
        "id": "WRgDiRYCJfHd"
      },
      "source": [
        "## Install biopython\n",
        "\n",
        "The code in this notebook is interpreted as *python* code by default. In order to tell the underlying machine to execute commands, we have to begin the code row by using an exlamation mark, followed by a white space, followed by the code we want to execute in the machine terminal.\n",
        "\n",
        "We will do so, in order to install biopython. \n",
        "**Press play on the following code cell**."
      ]
    },
    {
      "cell_type": "code",
      "metadata": {
        "id": "dDErGVnoJTtO"
      },
      "source": [
        "! pip install biopython\n",
        "! pip install reportlab"
      ],
      "execution_count": null,
      "outputs": []
    },
    {
      "cell_type": "markdown",
      "metadata": {
        "id": "RgGqaZX_KE4N"
      },
      "source": [
        "# A Python primer\n",
        "\n",
        "Python is very intuitive to read and write, and once you are used to it, it does feel almost like natural language. One needs however to be a little careful about syntax, and in particular *indenting* of code.\n",
        "\n",
        "### Syntax and Indenting\n",
        "\n",
        "By indenting code, we mean the number of spaces from the beginning of the row:\n",
        "python uses indenting to separate blocks of code that need to be run together (loops) or that are dependent on the lines above (methods).\n",
        "\n",
        "An example below, the following code will generate an error:"
      ]
    },
    {
      "cell_type": "code",
      "metadata": {
        "id": "rSdr1k2KXoYu"
      },
      "source": [
        "list = [ 1, 2, 3]\n",
        "for number in list:\n",
        "print(number)"
      ],
      "execution_count": null,
      "outputs": []
    },
    {
      "cell_type": "markdown",
      "metadata": {
        "id": "9qn1GwMeuZXg"
      },
      "source": [
        "While the code below is correct, because the print inside the for loop is correctly indented"
      ]
    },
    {
      "cell_type": "code",
      "metadata": {
        "id": "oXWsgdUSuYho"
      },
      "source": [
        "list = [ 1, 2, 3]\n",
        "for number in list:\n",
        "  print(number)"
      ],
      "execution_count": null,
      "outputs": []
    },
    {
      "cell_type": "markdown",
      "metadata": {
        "id": "qVcbxPpBumso"
      },
      "source": [
        "you see, in the example above the only difference is the white space before *print* and the beginning of the line. This identifies the command *print* as part of what needs to be executed inside the *for* loop."
      ]
    },
    {
      "cell_type": "markdown",
      "metadata": {
        "id": "NM7g0yxtXDJl"
      },
      "source": [
        "### Variables\n",
        "\n",
        "variables are objects where we store a value. the value can be a *string*, i.e. a sequence of characters, or a *number* and in this case can be an *integer*, i.e. a a number without decimals or a *float*, i.e. a number with decimals.\n",
        "\n",
        "Declaring / assigning a variable is easy\n"
      ]
    },
    {
      "cell_type": "code",
      "metadata": {
        "id": "0WHIKzhrXpVO"
      },
      "source": [
        "number = 1\n",
        "string = \"hello world\""
      ],
      "execution_count": null,
      "outputs": []
    },
    {
      "cell_type": "markdown",
      "metadata": {
        "id": "nhZUC8ydXkWv"
      },
      "source": [
        "\n",
        "### Lists\n",
        "\n",
        "we have seen already above that lists are just collections of elements, which we identify using square brackets, like in the examples below:"
      ]
    },
    {
      "cell_type": "code",
      "metadata": {
        "id": "7j080Uj5XqL9"
      },
      "source": [
        "wordList = [ \"word1\", \"word2\", \"word3\"]\n",
        "numberList = [ 1, 2, 3, 4]"
      ],
      "execution_count": null,
      "outputs": []
    },
    {
      "cell_type": "markdown",
      "metadata": {
        "id": "S2KvwgEIw1_U"
      },
      "source": [
        "There is another data structure similar to a *list* in python which is called *tuple* but we will not enter into the details here."
      ]
    },
    {
      "cell_type": "markdown",
      "metadata": {
        "id": "FSx97EjCXlqP"
      },
      "source": [
        "\n",
        "\n",
        "### Dictionaries\n",
        "\n",
        "Dictionaries are a special kind of list, where an element is identified by a key. We call this **key-value** pair.\n",
        "In this way, I can call a key of a dictionary and get its value. \n",
        "\n",
        "they are built using curly brackets as below:"
      ]
    },
    {
      "cell_type": "code",
      "metadata": {
        "id": "lnUfv0uHXrBk"
      },
      "source": [
        "myDictionary = {\n",
        "    \"sequence\": \"ATGCGTTA\",\n",
        "    \"score\": \"13.9\"\n",
        "}\n",
        "\n",
        "print(\"I can access the sequence using its key - sequence \" + myDictionary['sequence'])\n",
        "print(\"I can access the score using its key - score \" + myDictionary['score'])"
      ],
      "execution_count": null,
      "outputs": []
    },
    {
      "cell_type": "markdown",
      "metadata": {
        "id": "P6WHN6VwzVAG"
      },
      "source": [
        "In the example above, you will also notice that we have printed a sentence by concatenating multiple values using **+**\n",
        "\n",
        "This only works if all values are strings.\n",
        "The example below will generate an error:"
      ]
    },
    {
      "cell_type": "code",
      "metadata": {
        "id": "DcKaDYBlziQu"
      },
      "source": [
        "myDictionary = {\n",
        "    \"sequence\": \"ATGCGTTA\",\n",
        "    \"score\": 13.9\n",
        "}\n",
        "\n",
        "print(\"I can access the score using its key - score \" + myDictionary['score'])"
      ],
      "execution_count": null,
      "outputs": []
    },
    {
      "cell_type": "markdown",
      "metadata": {
        "id": "Jb_qNZIlXHJs"
      },
      "source": [
        "### Conditions\n",
        "\n",
        "The most typical case is the **if-else** statement, or just the **if** statement.\n",
        "\n",
        "Let's imagine we want execute some code, i.e. print a response, only if a certain variable correspond to a value\n"
      ]
    },
    {
      "cell_type": "code",
      "metadata": {
        "id": "rH7syCYKXsDJ"
      },
      "source": [
        "check = \"sequence\"\n",
        "\n",
        "if (check == \"sequence\"):\n",
        "  print(\"correct, your check is actually a sequence\")"
      ],
      "execution_count": null,
      "outputs": []
    },
    {
      "cell_type": "markdown",
      "metadata": {
        "id": "QYVR48ta0OPU"
      },
      "source": [
        "if we assigned another value to *check* like in the code below"
      ]
    },
    {
      "cell_type": "code",
      "metadata": {
        "id": "vtORPhtH0TG0"
      },
      "source": [
        "check = \"protein\"\n",
        "\n",
        "if (check == \"sequence\"):\n",
        "  print(\"correct, your check is actually a sequence\")"
      ],
      "execution_count": null,
      "outputs": []
    },
    {
      "cell_type": "markdown",
      "metadata": {
        "id": "8Ybde96a0Wbj"
      },
      "source": [
        "nothing happens, because the code block controlled by the if is not executed. we could re-write it in another way"
      ]
    },
    {
      "cell_type": "code",
      "metadata": {
        "id": "4MexHaMt0csx"
      },
      "source": [
        "check = \"protein\"\n",
        "\n",
        "if (check == \"sequence\"):\n",
        "  print(\"correct, your check is actually a sequence\")\n",
        "else:\n",
        "  print(\"this is not a sequence\")"
      ],
      "execution_count": null,
      "outputs": []
    },
    {
      "cell_type": "markdown",
      "metadata": {
        "id": "FEb73s5o0maT"
      },
      "source": [
        "introducing an *else* statement gives us an alternative that we can execute if the condition established under *if* is not met."
      ]
    },
    {
      "cell_type": "markdown",
      "metadata": {
        "id": "uZvuoXcIXKjW"
      },
      "source": [
        "### Loops\n",
        "\n",
        "Loops are simply the execution of code in rounds, by cycling over a sequence of values or a list.\n",
        "\n",
        "The simplest we can mention here is a **for** loop, like the one we executed at the beginning\n"
      ]
    },
    {
      "cell_type": "code",
      "metadata": {
        "id": "pr0uwknsXsnE"
      },
      "source": [
        "mySequences = [\"ACGTG\", \"TTGCAA\", \"TATATAGC\", \"ATGCGGT\"]\n",
        "\n",
        "for sequence in mySequences:\n",
        "  print(\"my sequence in this round is = \" + sequence)"
      ],
      "execution_count": null,
      "outputs": []
    },
    {
      "cell_type": "markdown",
      "metadata": {
        "id": "iwvOuvT82kmx"
      },
      "source": [
        "## ESERCIZIO\n",
        "\n",
        "Cerchiamo di riepilogare quanto visto fino ad ora.\n",
        "\n",
        "Scrivi nella parte sottostante un codice che:\n",
        "- crei una lista con le seguenti parole: uno, due, tre\n",
        "- esegua un loop di questa lista\n",
        "- all'interno del loop controlli se la parola corrisponde a *due* e nel caso scriva *si*, altrimenti scriva *no*"
      ]
    },
    {
      "cell_type": "code",
      "metadata": {
        "id": "-f5i8RsH2-D3"
      },
      "source": [
        ""
      ],
      "execution_count": null,
      "outputs": []
    },
    {
      "cell_type": "markdown",
      "metadata": {
        "id": "RGzrYQNTKOcA"
      },
      "source": [
        "# Using Biopython\n",
        "\n",
        "## Activating the modules\n",
        "\n",
        "Biopython is a collection of modules of code: they need to be imported, and explicitly declared in order to work in the code with its methods.\n",
        "\n",
        "We do this as below.\n",
        "Please execute the whole code block\n",
        "\n",
        "**NB: the code only works if you executed the installation at the beginning of this notebook**\n"
      ]
    },
    {
      "cell_type": "code",
      "metadata": {
        "id": "jw9mu8Tk7EKa"
      },
      "source": [
        "import Bio\n",
        "from Bio import Entrez\n",
        "from Bio import SeqIO\n",
        "import textwrap\n",
        "print(Bio.__version__)"
      ],
      "execution_count": null,
      "outputs": []
    },
    {
      "cell_type": "markdown",
      "metadata": {
        "id": "cySsRq1lKVNk"
      },
      "source": [
        "## Using Entrez and GenBank\n",
        "\n",
        "In order to use the functions for GenBank, Entrez wants an email for the user. Any will do.\n"
      ]
    },
    {
      "cell_type": "code",
      "metadata": {
        "id": "1oyO-ef_NgMs"
      },
      "source": [
        "Entrez.email = \"A.N.Other@example.com\""
      ],
      "execution_count": null,
      "outputs": []
    },
    {
      "cell_type": "markdown",
      "metadata": {
        "id": "qdz8g0KRKcPM"
      },
      "source": [
        "### Search for a genome record in Genbank\n",
        "\n",
        "What we normally call a *function* in a programming language like python is a *method* or a *property* of a package or module. In this case we access it as **package**.*method*, i.e. we put the package first, and the method we need after a \".\"\n",
        "\n",
        "In this case we are only retrieving the FASTA sequence, as indicated by the **rettype** property in the request."
      ]
    },
    {
      "cell_type": "code",
      "metadata": {
        "id": "53ZqUL4RKhAE"
      },
      "source": [
        "result = Entrez.efetch(\n",
        "    db=\"nucleotide\", rettype=\"fasta\", retmode=\"text\", id=\"MW586689\"\n",
        ")"
      ],
      "execution_count": null,
      "outputs": []
    },
    {
      "cell_type": "markdown",
      "metadata": {
        "id": "P4dOT38rKi0w"
      },
      "source": [
        "### Parsing that record\n",
        "\n",
        "the code above only *retrieves* the record from GenBank, but does not process its content. We do this by using the method **read** from the **SeqIO** package."
      ]
    },
    {
      "cell_type": "code",
      "metadata": {
        "id": "wsJxAeXDOP9-"
      },
      "source": [
        "seq_record = SeqIO.read(result, \"fasta\")"
      ],
      "execution_count": null,
      "outputs": []
    },
    {
      "cell_type": "markdown",
      "metadata": {
        "id": "vQiNSW2-4wVe"
      },
      "source": [
        "the object *seq_record* now contains different elements retrieved from the GenBank record. they can be accessed using properties of the object. Like methods, they are accessible using a \".\" after the name of the object, like below"
      ]
    },
    {
      "cell_type": "markdown",
      "metadata": {
        "id": "58oTs44GKpjD"
      },
      "source": [
        "### Print the results\n",
        "\n",
        "- **seq_record**.*id* contains the identifier\n",
        "- **seq_record**.*seq* contains the actual sequence\n",
        "\n",
        "We can use a special character **%** as a placeholder inside a string, to insert one or multiple values from object indicated immediately after the string in a print statement.\n",
        "\n",
        "In order not to occupy the whole screen we use the function **repr** to only print the first few characters of the sequence."
      ]
    },
    {
      "cell_type": "code",
      "metadata": {
        "id": "7UKKW00TKuDk"
      },
      "source": [
        "print(\"sequence identifier %s with fasta sequence of length %i\" % (seq_record.id, len(seq_record.seq)))\n",
        "print(\"A taste of sequence is %s\" % repr(seq_record.seq))"
      ],
      "execution_count": null,
      "outputs": []
    },
    {
      "cell_type": "markdown",
      "metadata": {
        "id": "Bu0YKoUQKvNM"
      },
      "source": [
        "## GenBank records\n",
        "\n",
        "now, differently from above, we want to retrieve the whole GenBank record and not just the FASTA sequence.\n",
        "We are going to change **rettype** from \"fasta\" to \"gb\".\n",
        "\n",
        "using the function *str* we can inspect the structure of the object."
      ]
    },
    {
      "cell_type": "code",
      "metadata": {
        "id": "BKWVfi6JSlmg"
      },
      "source": [
        "gbresult = Entrez.efetch(db=\"nucleotide\", rettype=\"gb\", retmode=\"test\", id=\"MW586689\")\n",
        "gb_record = SeqIO.read(gbresult, \"genbank\")\n",
        "print(str(gb_record.features))"
      ],
      "execution_count": null,
      "outputs": []
    },
    {
      "cell_type": "markdown",
      "metadata": {
        "id": "4VrotAXO6Uet"
      },
      "source": [
        "Clearly this is very long, but allows us to search and use any of the information we inspected on the web browser."
      ]
    },
    {
      "cell_type": "markdown",
      "metadata": {
        "id": "vOvLIsg-6e2U"
      },
      "source": [
        "## Multiple records\n",
        "\n",
        "Now let's put the code at use, and do something more than what we could do in a browser.\n",
        "Let's search for several sequences from Spike proteins all at once:\n",
        "\n",
        "- we need to change the database section to \"protein\"\n",
        "- we want the sequence so we go back to *rettype* \"fasta\"\n",
        "- this time the identifier *id* is a list of multiple identifiers separated by a coma (no space)"
      ]
    },
    {
      "cell_type": "code",
      "metadata": {
        "id": "_mlciTbbVzf0"
      },
      "source": [
        "protein_list = Entrez.efetch(db=\"protein\", rettype=\"fasta\", retmode=\"text\", id=\"QRK24690,QRO03507,QRU93410,QRI43434,QRX39425,QRD95445,QRC42505,QRF69711\")"
      ],
      "execution_count": null,
      "outputs": []
    },
    {
      "cell_type": "markdown",
      "metadata": {
        "id": "uuA3RxRw67Wh"
      },
      "source": [
        "Now our *protein_list* object is not a single record anymore, so instead of using the function *read* we need to use the function **parse**"
      ]
    },
    {
      "cell_type": "code",
      "metadata": {
        "id": "NMvDl0CsW9Dx"
      },
      "source": [
        "records = SeqIO.parse(protein_list, \"fasta\")"
      ],
      "execution_count": null,
      "outputs": []
    },
    {
      "cell_type": "markdown",
      "metadata": {
        "id": "W_9Q717A7Enr"
      },
      "source": [
        "and we can use a loop, to print first the identifier and then the sequence of each of the proteins."
      ]
    },
    {
      "cell_type": "code",
      "metadata": {
        "id": "ZayF8k94aDhq"
      },
      "source": [
        "for protein in records:\n",
        "  print(\"%s\" % protein.id)\n",
        "  print(\"%s\" % protein.seq)"
      ],
      "execution_count": null,
      "outputs": []
    },
    {
      "cell_type": "markdown",
      "metadata": {
        "id": "fXB2rb_47PhD"
      },
      "source": [
        "In just one shot, we could write a FASTA file, formatted as we need, and use this fasta for our multiple sequence alignment.\n",
        "\n",
        "In the code below, we introduce an object we called *handle* (could have called it any other way), which points to a file opened for writing.\n",
        "This object will have a method *write*, which allows us to write inside the file we opened.\n",
        "we can use this inside a loop as below."
      ]
    },
    {
      "cell_type": "code",
      "metadata": {
        "id": "fXF4b4wfchiF"
      },
      "source": [
        "protein_list = Entrez.efetch(db=\"protein\", rettype=\"fasta\", retmode=\"text\", id=\"QRK24690,QRO03507,QRU93410,QRI43434,QRX39425,QRD95445,QRC42505,QRF69711\")\n",
        "records = SeqIO.parse(protein_list, \"fasta\")\n",
        "handle = open(\"input.fasta\", mode='a')\n",
        "for record in records:\n",
        "  handle.write(\">%s\\n%s\\n\" % (record.id, record.seq))\n",
        "  print(\">%s\\n%s\\n\" % (record.id, repr(record.seq)))"
      ],
      "execution_count": null,
      "outputs": []
    },
    {
      "cell_type": "markdown",
      "metadata": {
        "id": "JDHJapvc7yOF"
      },
      "source": [
        "Now if you click on the left hand side of this notebook, there is a symbol of a folder. You can refresh the folder and see a file called \"input.fasta\" appeared there.\n",
        "\n",
        "You can download it and open."
      ]
    },
    {
      "cell_type": "markdown",
      "metadata": {
        "id": "C7E2-C7mRpix"
      },
      "source": [
        "# Advanced examples\n",
        "\n",
        "\n"
      ]
    },
    {
      "cell_type": "markdown",
      "metadata": {
        "id": "-ebYn1HaUYqH"
      },
      "source": [
        "## Get protein from genome on multiple sequences\n",
        "\n",
        "This is a little more advanced, but will allow us to quickly do what we have been doing one by one on a browser, i.e.\n",
        "\n",
        "- use the identifier of a genome\n",
        "- get its genbank record\n",
        "- extract the spike protein identifier\n",
        "- extract the sequence of the spike protein only\n",
        "\n",
        "In order to do this, we need to loop through the many elements of a GenBank record (called **features**).\n",
        "Looking at the web page helps understanding its structure.\n",
        "\n",
        "We use a combination of a loop (to go through the feature one by one) and a conditional if (to identify the one we want), to select what we need and return it as a list of three elements:\n",
        "- genome id\n",
        "- identifier of the protein\n",
        "- sequence of the protein"
      ]
    },
    {
      "cell_type": "code",
      "metadata": {
        "id": "wPsQfRrvTuU6"
      },
      "source": [
        "def get_spike_from_gb(record):\n",
        "    for feature in record.features:\n",
        "        if feature.type == \"CDS\" and 'S' in feature.qualifiers.get(\"gene\"):\n",
        "            identifier = feature.qualifiers.get(\"protein_id\")[0]\n",
        "            sequence = feature.qualifiers.get(\"translation\")[0]\n",
        "            results = [record.id, identifier, sequence]\n",
        "            #print(\"for genome %s we got protein %s with sequence\\n%s\\n\" % (record.id, identifier, sequence))\n",
        "            return results"
      ],
      "execution_count": null,
      "outputs": []
    },
    {
      "cell_type": "markdown",
      "metadata": {
        "id": "SJecMqoTTzUo"
      },
      "source": [
        "In your exercise you had multiple genomes to extract the protein from: first you can retrieve them all together as we have seen above\n"
      ]
    },
    {
      "cell_type": "code",
      "metadata": {
        "id": "1KHcVdsFUAct"
      },
      "source": [
        "gbresultList = Entrez.efetch(db=\"nucleotide\", rettype=\"gb\", retmode=\"test\", id=\"MW662150,MW662159,MW642248,MW621433,MW580576\")\n",
        "recordsList = SeqIO.parse(gbresultList, \"genbank\")"
      ],
      "execution_count": null,
      "outputs": []
    },
    {
      "cell_type": "markdown",
      "metadata": {
        "id": "xvob_zfmUA5p"
      },
      "source": [
        "Then you can apply the function we have written, in order to get the proteins from all of them, and write a FASTA file for each one"
      ]
    },
    {
      "cell_type": "code",
      "metadata": {
        "id": "H0djL8BWUG2r"
      },
      "source": [
        "for record in recordsList:\n",
        "    spike = get_spike_from_gb(record)\n",
        "    fileName = \"genome-\" + spike[0] + \"_spike-\" + spike[1] + \".fasta\"\n",
        "    handle = open(fileName, mode=\"w\")\n",
        "    handle.write(\">%s_%s\\n%s\" % tuple(spike))"
      ],
      "execution_count": null,
      "outputs": []
    },
    {
      "cell_type": "markdown",
      "metadata": {
        "id": "zihNX-1X9PjV"
      },
      "source": [
        "With the function above we have written different files, each one named in a understandable way and containing the correct format to be used.\n",
        "\n",
        "Refresh the file list on the left hand side and see by yourself."
      ]
    },
    {
      "cell_type": "markdown",
      "metadata": {
        "id": "vNNQJ07KTp2v"
      },
      "source": [
        "## Plot a SARS-CoV-2 Genome\n",
        "\n",
        "In order to plot the genome we need to import several libraries with the functions we need. Just execute the code below to do that."
      ]
    },
    {
      "cell_type": "code",
      "metadata": {
        "id": "0tjAwPjBM63Q"
      },
      "source": [
        "from reportlab.lib import colors\n",
        "from reportlab.lib.units import cm\n",
        "from Bio.Graphics import GenomeDiagram\n",
        "from Bio.SeqFeature import SeqFeature, FeatureLocation # Read in our genome"
      ],
      "execution_count": null,
      "outputs": []
    },
    {
      "cell_type": "markdown",
      "metadata": {
        "id": "3CpMyH9j9wqw"
      },
      "source": [
        "Then we retrieve a GenBank record of one SARS-CoV-2 genome in the code below. exactly in the same way we've done above."
      ]
    },
    {
      "cell_type": "code",
      "metadata": {
        "id": "2bWASaP9NZYz"
      },
      "source": [
        "search = Entrez.efetch(\n",
        "    db=\"nucleotide\", rettype=\"gb\", retmode=\"text\", id=\"MW586689\"\n",
        ")\n",
        "record = SeqIO.read(search, \"genbank\")"
      ],
      "execution_count": null,
      "outputs": []
    },
    {
      "cell_type": "markdown",
      "metadata": {
        "id": "sWd9f7oQ95gf"
      },
      "source": [
        "Then we have some more specialistic code, mean to create each bit of the plot we need to create: this is nested code because the plot has the following hierarchy\n",
        "\n",
        "- a diagram (which can contain multiple tracks)\n",
        "- a track (which can contain multiple features)\n",
        "- features (in the code we add a track feature to represent each genbank record feature)"
      ]
    },
    {
      "cell_type": "code",
      "metadata": {
        "id": "GM_nyeWlOETJ"
      },
      "source": [
        "gd_diagram = GenomeDiagram.Diagram(record.id)\n",
        "gd_track_for_features = gd_diagram.new_track(1, name=\"Annotated Features\")\n",
        "gd_feature_set = gd_track_for_features.new_set()\n",
        "# We can color code every other gene for clarity\n",
        "for feature in record.features:\n",
        "    if feature.type != \"gene\":\n",
        "        # Exclude this feature\n",
        "        continue\n",
        "    if len(gd_feature_set) % 2 == 0: # this allows us to color even in blue and odd in light blue\n",
        "        color = colors.blue\n",
        "    else:\n",
        "        color = colors.lightblue\n",
        "    gd_feature_set.add_feature(\n",
        "        feature, sigil=\"ARROW\", color=color, label=True, label_size=14, label_angle=0)"
      ],
      "execution_count": null,
      "outputs": []
    },
    {
      "cell_type": "markdown",
      "metadata": {
        "id": "48uyhmxu-aSs"
      },
      "source": [
        "Finally, we just draw the plot.\n",
        "This will not however be able to visualise it at screen, only draw it on a file."
      ]
    },
    {
      "cell_type": "code",
      "metadata": {
        "id": "Wi1M37wOONJi"
      },
      "source": [
        "gd_diagram.draw(\n",
        "    format='linear', orientation='landscape',\n",
        "    pagesize=(80 * cm, 20 * cm),\n",
        "    start=0,\n",
        "    end=len(record),\n",
        "    circle_core=0.5)\n",
        "gd_diagram.write(\"sarscov2_genes_plot.png\", \"PNG\")"
      ],
      "execution_count": null,
      "outputs": []
    },
    {
      "cell_type": "markdown",
      "metadata": {
        "id": "L0opKAeS-ifG"
      },
      "source": [
        "In order to visualise it, we need to load the image we just saved."
      ]
    },
    {
      "cell_type": "code",
      "metadata": {
        "id": "3hsrXsSUO4R-"
      },
      "source": [
        "from IPython.core.display import Image\n",
        "Image(\"sarscov2_genes_plot.png\")"
      ],
      "execution_count": null,
      "outputs": []
    }
  ]
}