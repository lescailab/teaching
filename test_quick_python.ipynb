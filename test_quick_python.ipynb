{
  "nbformat": 4,
  "nbformat_minor": 0,
  "metadata": {
    "colab": {
      "name": "test_quick-python.ipynb",
      "provenance": [],
      "authorship_tag": "ABX9TyPllJ4WSZ2Gs6DsGJ8Vp+C9",
      "include_colab_link": true
    },
    "kernelspec": {
      "name": "python3",
      "display_name": "Python 3"
    },
    "language_info": {
      "name": "python"
    }
  },
  "cells": [
    {
      "cell_type": "markdown",
      "metadata": {
        "id": "view-in-github",
        "colab_type": "text"
      },
      "source": [
        "<a href=\"https://colab.research.google.com/github/lescailab/teaching/blob/main/test_quick_python.ipynb\" target=\"_parent\"><img src=\"https://colab.research.google.com/assets/colab-badge.svg\" alt=\"Open In Colab\"/></a>"
      ]
    },
    {
      "cell_type": "code",
      "metadata": {
        "colab": {
          "base_uri": "https://localhost:8080/"
        },
        "id": "dDErGVnoJTtO",
        "outputId": "f725b8f3-7ce0-4b57-bcdf-2ef048339d04"
      },
      "source": [
        "! pip install biopython"
      ],
      "execution_count": 3,
      "outputs": [
        {
          "output_type": "stream",
          "text": [
            "Collecting biopython\n",
            "\u001b[?25l  Downloading https://files.pythonhosted.org/packages/3a/cd/0098eaff841850c01da928c7f509b72fd3e1f51d77b772e24de9e2312471/biopython-1.78-cp37-cp37m-manylinux1_x86_64.whl (2.3MB)\n",
            "\r\u001b[K     |▏                               | 10kB 11.4MB/s eta 0:00:01\r\u001b[K     |▎                               | 20kB 11.9MB/s eta 0:00:01\r\u001b[K     |▍                               | 30kB 15.1MB/s eta 0:00:01\r\u001b[K     |▋                               | 40kB 14.3MB/s eta 0:00:01\r\u001b[K     |▊                               | 51kB 10.0MB/s eta 0:00:01\r\u001b[K     |▉                               | 61kB 8.1MB/s eta 0:00:01\r\u001b[K     |█                               | 71kB 8.8MB/s eta 0:00:01\r\u001b[K     |█▏                              | 81kB 9.7MB/s eta 0:00:01\r\u001b[K     |█▎                              | 92kB 9.3MB/s eta 0:00:01\r\u001b[K     |█▌                              | 102kB 8.7MB/s eta 0:00:01\r\u001b[K     |█▋                              | 112kB 8.7MB/s eta 0:00:01\r\u001b[K     |█▊                              | 122kB 8.7MB/s eta 0:00:01\r\u001b[K     |██                              | 133kB 8.7MB/s eta 0:00:01\r\u001b[K     |██                              | 143kB 8.7MB/s eta 0:00:01\r\u001b[K     |██▏                             | 153kB 8.7MB/s eta 0:00:01\r\u001b[K     |██▎                             | 163kB 8.7MB/s eta 0:00:01\r\u001b[K     |██▌                             | 174kB 8.7MB/s eta 0:00:01\r\u001b[K     |██▋                             | 184kB 8.7MB/s eta 0:00:01\r\u001b[K     |██▊                             | 194kB 8.7MB/s eta 0:00:01\r\u001b[K     |███                             | 204kB 8.7MB/s eta 0:00:01\r\u001b[K     |███                             | 215kB 8.7MB/s eta 0:00:01\r\u001b[K     |███▏                            | 225kB 8.7MB/s eta 0:00:01\r\u001b[K     |███▍                            | 235kB 8.7MB/s eta 0:00:01\r\u001b[K     |███▌                            | 245kB 8.7MB/s eta 0:00:01\r\u001b[K     |███▋                            | 256kB 8.7MB/s eta 0:00:01\r\u001b[K     |███▉                            | 266kB 8.7MB/s eta 0:00:01\r\u001b[K     |████                            | 276kB 8.7MB/s eta 0:00:01\r\u001b[K     |████                            | 286kB 8.7MB/s eta 0:00:01\r\u001b[K     |████▏                           | 296kB 8.7MB/s eta 0:00:01\r\u001b[K     |████▍                           | 307kB 8.7MB/s eta 0:00:01\r\u001b[K     |████▌                           | 317kB 8.7MB/s eta 0:00:01\r\u001b[K     |████▋                           | 327kB 8.7MB/s eta 0:00:01\r\u001b[K     |████▉                           | 337kB 8.7MB/s eta 0:00:01\r\u001b[K     |█████                           | 348kB 8.7MB/s eta 0:00:01\r\u001b[K     |█████                           | 358kB 8.7MB/s eta 0:00:01\r\u001b[K     |█████▎                          | 368kB 8.7MB/s eta 0:00:01\r\u001b[K     |█████▍                          | 378kB 8.7MB/s eta 0:00:01\r\u001b[K     |█████▌                          | 389kB 8.7MB/s eta 0:00:01\r\u001b[K     |█████▊                          | 399kB 8.7MB/s eta 0:00:01\r\u001b[K     |█████▉                          | 409kB 8.7MB/s eta 0:00:01\r\u001b[K     |██████                          | 419kB 8.7MB/s eta 0:00:01\r\u001b[K     |██████                          | 430kB 8.7MB/s eta 0:00:01\r\u001b[K     |██████▎                         | 440kB 8.7MB/s eta 0:00:01\r\u001b[K     |██████▍                         | 450kB 8.7MB/s eta 0:00:01\r\u001b[K     |██████▌                         | 460kB 8.7MB/s eta 0:00:01\r\u001b[K     |██████▊                         | 471kB 8.7MB/s eta 0:00:01\r\u001b[K     |██████▉                         | 481kB 8.7MB/s eta 0:00:01\r\u001b[K     |███████                         | 491kB 8.7MB/s eta 0:00:01\r\u001b[K     |███████▏                        | 501kB 8.7MB/s eta 0:00:01\r\u001b[K     |███████▎                        | 512kB 8.7MB/s eta 0:00:01\r\u001b[K     |███████▍                        | 522kB 8.7MB/s eta 0:00:01\r\u001b[K     |███████▋                        | 532kB 8.7MB/s eta 0:00:01\r\u001b[K     |███████▊                        | 542kB 8.7MB/s eta 0:00:01\r\u001b[K     |███████▉                        | 552kB 8.7MB/s eta 0:00:01\r\u001b[K     |████████                        | 563kB 8.7MB/s eta 0:00:01\r\u001b[K     |████████▏                       | 573kB 8.7MB/s eta 0:00:01\r\u001b[K     |████████▎                       | 583kB 8.7MB/s eta 0:00:01\r\u001b[K     |████████▍                       | 593kB 8.7MB/s eta 0:00:01\r\u001b[K     |████████▋                       | 604kB 8.7MB/s eta 0:00:01\r\u001b[K     |████████▊                       | 614kB 8.7MB/s eta 0:00:01\r\u001b[K     |████████▉                       | 624kB 8.7MB/s eta 0:00:01\r\u001b[K     |█████████                       | 634kB 8.7MB/s eta 0:00:01\r\u001b[K     |█████████▏                      | 645kB 8.7MB/s eta 0:00:01\r\u001b[K     |█████████▎                      | 655kB 8.7MB/s eta 0:00:01\r\u001b[K     |█████████▌                      | 665kB 8.7MB/s eta 0:00:01\r\u001b[K     |█████████▋                      | 675kB 8.7MB/s eta 0:00:01\r\u001b[K     |█████████▊                      | 686kB 8.7MB/s eta 0:00:01\r\u001b[K     |█████████▉                      | 696kB 8.7MB/s eta 0:00:01\r\u001b[K     |██████████                      | 706kB 8.7MB/s eta 0:00:01\r\u001b[K     |██████████▏                     | 716kB 8.7MB/s eta 0:00:01\r\u001b[K     |██████████▎                     | 727kB 8.7MB/s eta 0:00:01\r\u001b[K     |██████████▌                     | 737kB 8.7MB/s eta 0:00:01\r\u001b[K     |██████████▋                     | 747kB 8.7MB/s eta 0:00:01\r\u001b[K     |██████████▊                     | 757kB 8.7MB/s eta 0:00:01\r\u001b[K     |███████████                     | 768kB 8.7MB/s eta 0:00:01\r\u001b[K     |███████████                     | 778kB 8.7MB/s eta 0:00:01\r\u001b[K     |███████████▏                    | 788kB 8.7MB/s eta 0:00:01\r\u001b[K     |███████████▍                    | 798kB 8.7MB/s eta 0:00:01\r\u001b[K     |███████████▌                    | 808kB 8.7MB/s eta 0:00:01\r\u001b[K     |███████████▋                    | 819kB 8.7MB/s eta 0:00:01\r\u001b[K     |███████████▉                    | 829kB 8.7MB/s eta 0:00:01\r\u001b[K     |████████████                    | 839kB 8.7MB/s eta 0:00:01\r\u001b[K     |████████████                    | 849kB 8.7MB/s eta 0:00:01\r\u001b[K     |████████████▏                   | 860kB 8.7MB/s eta 0:00:01\r\u001b[K     |████████████▍                   | 870kB 8.7MB/s eta 0:00:01\r\u001b[K     |████████████▌                   | 880kB 8.7MB/s eta 0:00:01\r\u001b[K     |████████████▋                   | 890kB 8.7MB/s eta 0:00:01\r\u001b[K     |████████████▉                   | 901kB 8.7MB/s eta 0:00:01\r\u001b[K     |█████████████                   | 911kB 8.7MB/s eta 0:00:01\r\u001b[K     |█████████████                   | 921kB 8.7MB/s eta 0:00:01\r\u001b[K     |█████████████▎                  | 931kB 8.7MB/s eta 0:00:01\r\u001b[K     |█████████████▍                  | 942kB 8.7MB/s eta 0:00:01\r\u001b[K     |█████████████▌                  | 952kB 8.7MB/s eta 0:00:01\r\u001b[K     |█████████████▊                  | 962kB 8.7MB/s eta 0:00:01\r\u001b[K     |█████████████▉                  | 972kB 8.7MB/s eta 0:00:01\r\u001b[K     |██████████████                  | 983kB 8.7MB/s eta 0:00:01\r\u001b[K     |██████████████                  | 993kB 8.7MB/s eta 0:00:01\r\u001b[K     |██████████████▎                 | 1.0MB 8.7MB/s eta 0:00:01\r\u001b[K     |██████████████▍                 | 1.0MB 8.7MB/s eta 0:00:01\r\u001b[K     |██████████████▌                 | 1.0MB 8.7MB/s eta 0:00:01\r\u001b[K     |██████████████▊                 | 1.0MB 8.7MB/s eta 0:00:01\r\u001b[K     |██████████████▉                 | 1.0MB 8.7MB/s eta 0:00:01\r\u001b[K     |███████████████                 | 1.1MB 8.7MB/s eta 0:00:01\r\u001b[K     |███████████████▏                | 1.1MB 8.7MB/s eta 0:00:01\r\u001b[K     |███████████████▎                | 1.1MB 8.7MB/s eta 0:00:01\r\u001b[K     |███████████████▍                | 1.1MB 8.7MB/s eta 0:00:01\r\u001b[K     |███████████████▋                | 1.1MB 8.7MB/s eta 0:00:01\r\u001b[K     |███████████████▊                | 1.1MB 8.7MB/s eta 0:00:01\r\u001b[K     |███████████████▉                | 1.1MB 8.7MB/s eta 0:00:01\r\u001b[K     |████████████████                | 1.1MB 8.7MB/s eta 0:00:01\r\u001b[K     |████████████████▏               | 1.1MB 8.7MB/s eta 0:00:01\r\u001b[K     |████████████████▎               | 1.1MB 8.7MB/s eta 0:00:01\r\u001b[K     |████████████████▍               | 1.2MB 8.7MB/s eta 0:00:01\r\u001b[K     |████████████████▋               | 1.2MB 8.7MB/s eta 0:00:01\r\u001b[K     |████████████████▊               | 1.2MB 8.7MB/s eta 0:00:01\r\u001b[K     |████████████████▉               | 1.2MB 8.7MB/s eta 0:00:01\r\u001b[K     |█████████████████               | 1.2MB 8.7MB/s eta 0:00:01\r\u001b[K     |█████████████████▏              | 1.2MB 8.7MB/s eta 0:00:01\r\u001b[K     |█████████████████▎              | 1.2MB 8.7MB/s eta 0:00:01\r\u001b[K     |█████████████████▌              | 1.2MB 8.7MB/s eta 0:00:01\r\u001b[K     |█████████████████▋              | 1.2MB 8.7MB/s eta 0:00:01\r\u001b[K     |█████████████████▊              | 1.2MB 8.7MB/s eta 0:00:01\r\u001b[K     |█████████████████▉              | 1.3MB 8.7MB/s eta 0:00:01\r\u001b[K     |██████████████████              | 1.3MB 8.7MB/s eta 0:00:01\r\u001b[K     |██████████████████▏             | 1.3MB 8.7MB/s eta 0:00:01\r\u001b[K     |██████████████████▎             | 1.3MB 8.7MB/s eta 0:00:01\r\u001b[K     |██████████████████▌             | 1.3MB 8.7MB/s eta 0:00:01\r\u001b[K     |██████████████████▋             | 1.3MB 8.7MB/s eta 0:00:01\r\u001b[K     |██████████████████▊             | 1.3MB 8.7MB/s eta 0:00:01\r\u001b[K     |███████████████████             | 1.3MB 8.7MB/s eta 0:00:01\r\u001b[K     |███████████████████             | 1.3MB 8.7MB/s eta 0:00:01\r\u001b[K     |███████████████████▏            | 1.4MB 8.7MB/s eta 0:00:01\r\u001b[K     |███████████████████▍            | 1.4MB 8.7MB/s eta 0:00:01\r\u001b[K     |███████████████████▌            | 1.4MB 8.7MB/s eta 0:00:01\r\u001b[K     |███████████████████▋            | 1.4MB 8.7MB/s eta 0:00:01\r\u001b[K     |███████████████████▊            | 1.4MB 8.7MB/s eta 0:00:01\r\u001b[K     |████████████████████            | 1.4MB 8.7MB/s eta 0:00:01\r\u001b[K     |████████████████████            | 1.4MB 8.7MB/s eta 0:00:01\r\u001b[K     |████████████████████▏           | 1.4MB 8.7MB/s eta 0:00:01\r\u001b[K     |████████████████████▍           | 1.4MB 8.7MB/s eta 0:00:01\r\u001b[K     |████████████████████▌           | 1.4MB 8.7MB/s eta 0:00:01\r\u001b[K     |████████████████████▋           | 1.5MB 8.7MB/s eta 0:00:01\r\u001b[K     |████████████████████▉           | 1.5MB 8.7MB/s eta 0:00:01\r\u001b[K     |█████████████████████           | 1.5MB 8.7MB/s eta 0:00:01\r\u001b[K     |█████████████████████           | 1.5MB 8.7MB/s eta 0:00:01\r\u001b[K     |█████████████████████▎          | 1.5MB 8.7MB/s eta 0:00:01\r\u001b[K     |█████████████████████▍          | 1.5MB 8.7MB/s eta 0:00:01\r\u001b[K     |█████████████████████▌          | 1.5MB 8.7MB/s eta 0:00:01\r\u001b[K     |█████████████████████▊          | 1.5MB 8.7MB/s eta 0:00:01\r\u001b[K     |█████████████████████▉          | 1.5MB 8.7MB/s eta 0:00:01\r\u001b[K     |██████████████████████          | 1.5MB 8.7MB/s eta 0:00:01\r\u001b[K     |██████████████████████          | 1.6MB 8.7MB/s eta 0:00:01\r\u001b[K     |██████████████████████▎         | 1.6MB 8.7MB/s eta 0:00:01\r\u001b[K     |██████████████████████▍         | 1.6MB 8.7MB/s eta 0:00:01\r\u001b[K     |██████████████████████▌         | 1.6MB 8.7MB/s eta 0:00:01\r\u001b[K     |██████████████████████▊         | 1.6MB 8.7MB/s eta 0:00:01\r\u001b[K     |██████████████████████▉         | 1.6MB 8.7MB/s eta 0:00:01\r\u001b[K     |███████████████████████         | 1.6MB 8.7MB/s eta 0:00:01\r\u001b[K     |███████████████████████▏        | 1.6MB 8.7MB/s eta 0:00:01\r\u001b[K     |███████████████████████▎        | 1.6MB 8.7MB/s eta 0:00:01\r\u001b[K     |███████████████████████▍        | 1.6MB 8.7MB/s eta 0:00:01\r\u001b[K     |███████████████████████▋        | 1.7MB 8.7MB/s eta 0:00:01\r\u001b[K     |███████████████████████▊        | 1.7MB 8.7MB/s eta 0:00:01\r\u001b[K     |███████████████████████▉        | 1.7MB 8.7MB/s eta 0:00:01\r\u001b[K     |████████████████████████        | 1.7MB 8.7MB/s eta 0:00:01\r\u001b[K     |████████████████████████▏       | 1.7MB 8.7MB/s eta 0:00:01\r\u001b[K     |████████████████████████▎       | 1.7MB 8.7MB/s eta 0:00:01\r\u001b[K     |████████████████████████▍       | 1.7MB 8.7MB/s eta 0:00:01\r\u001b[K     |████████████████████████▋       | 1.7MB 8.7MB/s eta 0:00:01\r\u001b[K     |████████████████████████▊       | 1.7MB 8.7MB/s eta 0:00:01\r\u001b[K     |████████████████████████▉       | 1.8MB 8.7MB/s eta 0:00:01\r\u001b[K     |█████████████████████████       | 1.8MB 8.7MB/s eta 0:00:01\r\u001b[K     |█████████████████████████▏      | 1.8MB 8.7MB/s eta 0:00:01\r\u001b[K     |█████████████████████████▎      | 1.8MB 8.7MB/s eta 0:00:01\r\u001b[K     |█████████████████████████▌      | 1.8MB 8.7MB/s eta 0:00:01\r\u001b[K     |█████████████████████████▋      | 1.8MB 8.7MB/s eta 0:00:01\r\u001b[K     |█████████████████████████▊      | 1.8MB 8.7MB/s eta 0:00:01\r\u001b[K     |█████████████████████████▉      | 1.8MB 8.7MB/s eta 0:00:01\r\u001b[K     |██████████████████████████      | 1.8MB 8.7MB/s eta 0:00:01\r\u001b[K     |██████████████████████████▏     | 1.8MB 8.7MB/s eta 0:00:01\r\u001b[K     |██████████████████████████▎     | 1.9MB 8.7MB/s eta 0:00:01\r\u001b[K     |██████████████████████████▌     | 1.9MB 8.7MB/s eta 0:00:01\r\u001b[K     |██████████████████████████▋     | 1.9MB 8.7MB/s eta 0:00:01\r\u001b[K     |██████████████████████████▊     | 1.9MB 8.7MB/s eta 0:00:01\r\u001b[K     |███████████████████████████     | 1.9MB 8.7MB/s eta 0:00:01\r\u001b[K     |███████████████████████████     | 1.9MB 8.7MB/s eta 0:00:01\r\u001b[K     |███████████████████████████▏    | 1.9MB 8.7MB/s eta 0:00:01\r\u001b[K     |███████████████████████████▍    | 1.9MB 8.7MB/s eta 0:00:01\r\u001b[K     |███████████████████████████▌    | 1.9MB 8.7MB/s eta 0:00:01\r\u001b[K     |███████████████████████████▋    | 1.9MB 8.7MB/s eta 0:00:01\r\u001b[K     |███████████████████████████▊    | 2.0MB 8.7MB/s eta 0:00:01\r\u001b[K     |████████████████████████████    | 2.0MB 8.7MB/s eta 0:00:01\r\u001b[K     |████████████████████████████    | 2.0MB 8.7MB/s eta 0:00:01\r\u001b[K     |████████████████████████████▏   | 2.0MB 8.7MB/s eta 0:00:01\r\u001b[K     |████████████████████████████▍   | 2.0MB 8.7MB/s eta 0:00:01\r\u001b[K     |████████████████████████████▌   | 2.0MB 8.7MB/s eta 0:00:01\r\u001b[K     |████████████████████████████▋   | 2.0MB 8.7MB/s eta 0:00:01\r\u001b[K     |████████████████████████████▉   | 2.0MB 8.7MB/s eta 0:00:01\r\u001b[K     |█████████████████████████████   | 2.0MB 8.7MB/s eta 0:00:01\r\u001b[K     |█████████████████████████████   | 2.0MB 8.7MB/s eta 0:00:01\r\u001b[K     |█████████████████████████████▎  | 2.1MB 8.7MB/s eta 0:00:01\r\u001b[K     |█████████████████████████████▍  | 2.1MB 8.7MB/s eta 0:00:01\r\u001b[K     |█████████████████████████████▌  | 2.1MB 8.7MB/s eta 0:00:01\r\u001b[K     |█████████████████████████████▋  | 2.1MB 8.7MB/s eta 0:00:01\r\u001b[K     |█████████████████████████████▉  | 2.1MB 8.7MB/s eta 0:00:01\r\u001b[K     |██████████████████████████████  | 2.1MB 8.7MB/s eta 0:00:01\r\u001b[K     |██████████████████████████████  | 2.1MB 8.7MB/s eta 0:00:01\r\u001b[K     |██████████████████████████████▎ | 2.1MB 8.7MB/s eta 0:00:01\r\u001b[K     |██████████████████████████████▍ | 2.1MB 8.7MB/s eta 0:00:01\r\u001b[K     |██████████████████████████████▌ | 2.2MB 8.7MB/s eta 0:00:01\r\u001b[K     |██████████████████████████████▊ | 2.2MB 8.7MB/s eta 0:00:01\r\u001b[K     |██████████████████████████████▉ | 2.2MB 8.7MB/s eta 0:00:01\r\u001b[K     |███████████████████████████████ | 2.2MB 8.7MB/s eta 0:00:01\r\u001b[K     |███████████████████████████████▏| 2.2MB 8.7MB/s eta 0:00:01\r\u001b[K     |███████████████████████████████▎| 2.2MB 8.7MB/s eta 0:00:01\r\u001b[K     |███████████████████████████████▍| 2.2MB 8.7MB/s eta 0:00:01\r\u001b[K     |███████████████████████████████▋| 2.2MB 8.7MB/s eta 0:00:01\r\u001b[K     |███████████████████████████████▊| 2.2MB 8.7MB/s eta 0:00:01\r\u001b[K     |███████████████████████████████▉| 2.2MB 8.7MB/s eta 0:00:01\r\u001b[K     |████████████████████████████████| 2.3MB 8.7MB/s eta 0:00:01\r\u001b[K     |████████████████████████████████| 2.3MB 8.7MB/s \n",
            "\u001b[?25hRequirement already satisfied: numpy in /usr/local/lib/python3.7/dist-packages (from biopython) (1.19.5)\n",
            "Installing collected packages: biopython\n",
            "Successfully installed biopython-1.78\n"
          ],
          "name": "stdout"
        }
      ]
    },
    {
      "cell_type": "code",
      "metadata": {
        "colab": {
          "base_uri": "https://localhost:8080/"
        },
        "id": "jw9mu8Tk7EKa",
        "outputId": "85907259-e280-457d-80b3-ab8be9d98c81"
      },
      "source": [
        "import Bio\n",
        "from Bio import Entrez\n",
        "from Bio import SeqIO\n",
        "import textwrap\n",
        "print(Bio.__version__)"
      ],
      "execution_count": 17,
      "outputs": [
        {
          "output_type": "stream",
          "text": [
            "1.78\n"
          ],
          "name": "stdout"
        }
      ]
    },
    {
      "cell_type": "code",
      "metadata": {
        "id": "1oyO-ef_NgMs"
      },
      "source": [
        "Entrez.email = \"A.N.Other@example.com\"\n",
        "result = Entrez.efetch(\n",
        "    db=\"nucleotide\", rettype=\"fasta\", retmode=\"text\", id=\"MW586689\"\n",
        ")\n",
        "seq_record = SeqIO.read(result, \"fasta\")"
      ],
      "execution_count": 8,
      "outputs": []
    },
    {
      "cell_type": "code",
      "metadata": {
        "colab": {
          "base_uri": "https://localhost:8080/"
        },
        "id": "wsJxAeXDOP9-",
        "outputId": "468d5be4-4328-4bbc-b6d1-af18a6a1e337"
      },
      "source": [
        "print(\"%s with fasta sequence of length %i\" % (seq_record.id, len(seq_record.seq)))\n",
        "print(\"A taste of sequence is %s\" % repr(seq_record.seq))\n",
        "# print(\"while the whole sequence below is\\n---------------------\")\n",
        "#sequence = str(seq_record.seq)\n",
        "# print(textwrap.fill(sequence, 100))"
      ],
      "execution_count": 21,
      "outputs": [
        {
          "output_type": "stream",
          "text": [
            "MW586689.1 with fasta sequence of length 29842\n",
            "A taste of sequence is Seq('ACCAACCAACTTTCGATCTCTTGTAGATCTGTTCTCTAAACGAACTTTAAAATC...AAA')\n"
          ],
          "name": "stdout"
        }
      ]
    },
    {
      "cell_type": "code",
      "metadata": {
        "colab": {
          "base_uri": "https://localhost:8080/"
        },
        "id": "BKWVfi6JSlmg",
        "outputId": "9dcb5048-b189-443e-8e07-82243fec39f0"
      },
      "source": [
        "gbresult = Entrez.efetch(db=\"nucleotide\", rettype=\"gb\", retmode=\"test\", id=\"MW586689\")\n",
        "gb_record = SeqIO.read(gbresult, \"genbank\")\n",
        "print(str(gb_record.features))"
      ],
      "execution_count": 24,
      "outputs": [
        {
          "output_type": "stream",
          "text": [
            "[SeqFeature(FeatureLocation(ExactPosition(0), ExactPosition(29842), strand=1), type='source'), SeqFeature(FeatureLocation(ExactPosition(235), ExactPosition(21516), strand=1), type='gene'), SeqFeature(CompoundLocation([FeatureLocation(ExactPosition(235), ExactPosition(13429), strand=1), FeatureLocation(ExactPosition(13428), ExactPosition(21516), strand=1)], 'join'), type='CDS', location_operator='join'), SeqFeature(FeatureLocation(ExactPosition(235), ExactPosition(775), strand=1), type='mat_peptide'), SeqFeature(FeatureLocation(ExactPosition(775), ExactPosition(2689), strand=1), type='mat_peptide'), SeqFeature(FeatureLocation(ExactPosition(2689), ExactPosition(8524), strand=1), type='mat_peptide'), SeqFeature(FeatureLocation(ExactPosition(8524), ExactPosition(10024), strand=1), type='mat_peptide'), SeqFeature(FeatureLocation(ExactPosition(10024), ExactPosition(10942), strand=1), type='mat_peptide'), SeqFeature(FeatureLocation(ExactPosition(10942), ExactPosition(11803), strand=1), type='mat_peptide'), SeqFeature(FeatureLocation(ExactPosition(11803), ExactPosition(12052), strand=1), type='mat_peptide'), SeqFeature(FeatureLocation(ExactPosition(12052), ExactPosition(12646), strand=1), type='mat_peptide'), SeqFeature(FeatureLocation(ExactPosition(12646), ExactPosition(12985), strand=1), type='mat_peptide'), SeqFeature(FeatureLocation(ExactPosition(12985), ExactPosition(13402), strand=1), type='mat_peptide'), SeqFeature(CompoundLocation([FeatureLocation(ExactPosition(13402), ExactPosition(13429), strand=1), FeatureLocation(ExactPosition(13428), ExactPosition(16197), strand=1)], 'join'), type='mat_peptide', location_operator='join'), SeqFeature(FeatureLocation(ExactPosition(16197), ExactPosition(18000), strand=1), type='mat_peptide'), SeqFeature(FeatureLocation(ExactPosition(18000), ExactPosition(19581), strand=1), type='mat_peptide'), SeqFeature(FeatureLocation(ExactPosition(19581), ExactPosition(20619), strand=1), type='mat_peptide'), SeqFeature(FeatureLocation(ExactPosition(20619), ExactPosition(21513), strand=1), type='mat_peptide'), SeqFeature(FeatureLocation(ExactPosition(235), ExactPosition(13444), strand=1), type='CDS'), SeqFeature(FeatureLocation(ExactPosition(235), ExactPosition(775), strand=1), type='mat_peptide'), SeqFeature(FeatureLocation(ExactPosition(775), ExactPosition(2689), strand=1), type='mat_peptide'), SeqFeature(FeatureLocation(ExactPosition(2689), ExactPosition(8524), strand=1), type='mat_peptide'), SeqFeature(FeatureLocation(ExactPosition(8524), ExactPosition(10024), strand=1), type='mat_peptide'), SeqFeature(FeatureLocation(ExactPosition(10024), ExactPosition(10942), strand=1), type='mat_peptide'), SeqFeature(FeatureLocation(ExactPosition(10942), ExactPosition(11803), strand=1), type='mat_peptide'), SeqFeature(FeatureLocation(ExactPosition(11803), ExactPosition(12052), strand=1), type='mat_peptide'), SeqFeature(FeatureLocation(ExactPosition(12052), ExactPosition(12646), strand=1), type='mat_peptide'), SeqFeature(FeatureLocation(ExactPosition(12646), ExactPosition(12985), strand=1), type='mat_peptide'), SeqFeature(FeatureLocation(ExactPosition(12985), ExactPosition(13402), strand=1), type='mat_peptide'), SeqFeature(FeatureLocation(ExactPosition(13402), ExactPosition(13441), strand=1), type='mat_peptide'), SeqFeature(FeatureLocation(ExactPosition(13436), ExactPosition(13464), strand=1), type='stem_loop'), SeqFeature(FeatureLocation(ExactPosition(13448), ExactPosition(13503), strand=1), type='stem_loop'), SeqFeature(FeatureLocation(ExactPosition(21523), ExactPosition(25342), strand=1), type='gene'), SeqFeature(FeatureLocation(ExactPosition(21523), ExactPosition(25342), strand=1), type='CDS'), SeqFeature(FeatureLocation(ExactPosition(25350), ExactPosition(26178), strand=1), type='gene'), SeqFeature(FeatureLocation(ExactPosition(25350), ExactPosition(26178), strand=1), type='CDS'), SeqFeature(FeatureLocation(ExactPosition(26202), ExactPosition(26430), strand=1), type='gene'), SeqFeature(FeatureLocation(ExactPosition(26202), ExactPosition(26430), strand=1), type='CDS'), SeqFeature(FeatureLocation(ExactPosition(26480), ExactPosition(27149), strand=1), type='gene'), SeqFeature(FeatureLocation(ExactPosition(26480), ExactPosition(27149), strand=1), type='CDS'), SeqFeature(FeatureLocation(ExactPosition(27159), ExactPosition(27345), strand=1), type='gene'), SeqFeature(FeatureLocation(ExactPosition(27159), ExactPosition(27345), strand=1), type='CDS'), SeqFeature(FeatureLocation(ExactPosition(27351), ExactPosition(27717), strand=1), type='gene'), SeqFeature(FeatureLocation(ExactPosition(27351), ExactPosition(27717), strand=1), type='CDS'), SeqFeature(FeatureLocation(ExactPosition(27713), ExactPosition(27845), strand=1), type='gene'), SeqFeature(FeatureLocation(ExactPosition(27713), ExactPosition(27845), strand=1), type='CDS'), SeqFeature(FeatureLocation(ExactPosition(27851), ExactPosition(27932), strand=1), type='gene'), SeqFeature(FeatureLocation(ExactPosition(27851), ExactPosition(27932), strand=1), type='CDS'), SeqFeature(FeatureLocation(ExactPosition(28230), ExactPosition(29490), strand=1), type='gene'), SeqFeature(FeatureLocation(ExactPosition(28230), ExactPosition(29490), strand=1), type='CDS'), SeqFeature(FeatureLocation(ExactPosition(29514), ExactPosition(29631), strand=1), type='gene'), SeqFeature(FeatureLocation(ExactPosition(29514), ExactPosition(29631), strand=1), type='CDS'), SeqFeature(FeatureLocation(ExactPosition(29565), ExactPosition(29601), strand=1), type='stem_loop'), SeqFeature(FeatureLocation(ExactPosition(29585), ExactPosition(29614), strand=1), type='stem_loop'), SeqFeature(FeatureLocation(ExactPosition(29684), ExactPosition(29725), strand=1), type='stem_loop')]\n"
          ],
          "name": "stdout"
        }
      ]
    },
    {
      "cell_type": "code",
      "metadata": {
        "id": "_mlciTbbVzf0"
      },
      "source": [
        "protein_list = Entrez.efetch(db=\"protein\", rettype=\"fasta\", retmode=\"text\", id=\"QRK24690,QRO03507,QRU93410,QRI43434,QRX39425,QRD95445,QRC42505,QRF69711\")"
      ],
      "execution_count": 70,
      "outputs": []
    },
    {
      "cell_type": "code",
      "metadata": {
        "id": "NMvDl0CsW9Dx"
      },
      "source": [
        "records = SeqIO.parse(protein_list, \"fasta\")"
      ],
      "execution_count": 71,
      "outputs": []
    },
    {
      "cell_type": "code",
      "metadata": {
        "id": "ZayF8k94aDhq"
      },
      "source": [
        "for protein in records:\n",
        "  print(\"%s\" % protein.id)\n",
        "  print(\"%s\" % protein.seq)"
      ],
      "execution_count": 73,
      "outputs": []
    },
    {
      "cell_type": "code",
      "metadata": {
        "id": "r_O3esJEcgLS"
      },
      "source": [
        "from Bio.Align.Applications import MuscleCommandline\n",
        "from io import StringIO\n",
        "from Bio import AlignIO"
      ],
      "execution_count": 76,
      "outputs": []
    },
    {
      "cell_type": "code",
      "metadata": {
        "colab": {
          "base_uri": "https://localhost:8080/"
        },
        "id": "fXF4b4wfchiF",
        "outputId": "06fbbab5-dbec-40ef-b065-c3eadc0464c0"
      },
      "source": [
        "protein_list = Entrez.efetch(db=\"protein\", rettype=\"fasta\", retmode=\"text\", id=\"QRK24690,QRO03507,QRU93410,QRI43434,QRX39425,QRD95445,QRC42505,QRF69711\")\n",
        "records = SeqIO.parse(protein_list, \"fasta\")\n",
        "handle = open(\"input.fasta\", mode='a')\n",
        "for record in records:\n",
        "  handle.write(\">%s\\n%s\\n\" % (record.id, record.seq))"
      ],
      "execution_count": 100,
      "outputs": [
        {
          "output_type": "stream",
          "text": [
            "<_io.TextIOWrapper name='input.fasta' mode='a' encoding='UTF-8'>\n"
          ],
          "name": "stdout"
        }
      ]
    }
  ]
}